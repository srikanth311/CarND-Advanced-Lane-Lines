{
 "nbformat": 4,
 "nbformat_minor": 2,
 "metadata": {
  "language_info": {
   "name": "python",
   "codemirror_mode": {
    "name": "ipython",
    "version": 3
   },
   "version": "3.7.6-final"
  },
  "orig_nbformat": 2,
  "file_extension": ".py",
  "mimetype": "text/x-python",
  "name": "python",
  "npconvert_exporter": "python",
  "pygments_lexer": "ipython3",
  "version": 3,
  "kernelspec": {
   "name": "python37664bitanacondapython37condac429fe1af4a2401abcc8d373ce54693c",
   "display_name": "Python 3.7.6 64-bit ('anaconda-python37': conda)"
  }
 },
 "cells": [
  {
   "cell_type": "code",
   "execution_count": null,
   "metadata": {},
   "outputs": [],
   "source": [
    "from moviepy.editor import VideoFileClip\n",
    "\n",
    "# My classes imports\n",
    "from _CameraCalibration import CameraCalibration\n",
    "from _MainPipeline import my_pipeline\n",
    "from _PlotMyImages import PlotMyImages as plot_my_images"
   ]
  },
  {
   "cell_type": "code",
   "execution_count": null,
   "metadata": {},
   "outputs": [],
   "source": [
    "def process_each_frame(frame):\n",
    "    camera_calibration = CameraCalibration.get_calibrated_camera()\n",
    "    all_variables_in_pipeline = my_pipeline(frame, \"\", camera_calibration)\n",
    "    return all_variables_in_pipeline.img_processed"
   ]
  },
  {
   "cell_type": "code",
   "execution_count": null,
   "metadata": {},
   "outputs": [],
   "source": [
    "camera_calibration = CameraCalibration.get_calibrated_camera()\n",
    "input_video_file = \"project_video.mp4\"\n",
    "output_video_file = \"generated_output_video.mp4\"\n",
    "video = VideoFileClip(input_video_file)\n",
    "project_video = video.fl_image(process_each_frame)\n",
    "%time project_video.write_videofile(output_video_file, audio=False)"
   ]
  },
  {
   "cell_type": "code",
   "execution_count": null,
   "metadata": {},
   "outputs": [],
   "source": []
  }
 ]
}